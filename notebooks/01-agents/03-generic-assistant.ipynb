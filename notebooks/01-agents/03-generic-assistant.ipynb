{
 "cells": [
  {
   "cell_type": "code",
   "execution_count": null,
   "metadata": {},
   "outputs": [],
   "source": [
    "# import os\n",
    "# os.environ[\"LOG_LEVEL\"] = \"debug\""
   ]
  },
  {
   "cell_type": "code",
   "execution_count": null,
   "metadata": {},
   "outputs": [],
   "source": [
    "from rich.pretty import pprint\n",
    "from llm_agents.agents import GenericAssistant, GenericAssistantInput"
   ]
  },
  {
   "cell_type": "code",
   "execution_count": null,
   "metadata": {},
   "outputs": [],
   "source": [
    "generic_assitant = GenericAssistant()"
   ]
  },
  {
   "cell_type": "code",
   "execution_count": null,
   "metadata": {},
   "outputs": [],
   "source": [
    "user_query_1 = \"What is acid rain?\"\n",
    "agent_output_1 = await generic_assitant.generate(\n",
    "    agent_input=GenericAssistantInput(\n",
    "        user_query=user_query_1,\n",
    "    )\n",
    ")\n",
    "\n",
    "pprint(agent_output_1)"
   ]
  },
  {
   "cell_type": "code",
   "execution_count": null,
   "metadata": {},
   "outputs": [],
   "source": [
    "user_query_2 = \"And why it is harmful to humans?\"\n",
    "agent_output_2 = await generic_assitant.generate(\n",
    "    agent_input=GenericAssistantInput(\n",
    "        user_query=user_query_2,\n",
    "    )\n",
    ")\n",
    "\n",
    "pprint(agent_output_2)"
   ]
  },
  {
   "cell_type": "code",
   "execution_count": null,
   "metadata": {},
   "outputs": [],
   "source": []
  }
 ],
 "metadata": {
  "kernelspec": {
   "display_name": "Python 3",
   "language": "python",
   "name": "python3"
  },
  "language_info": {
   "codemirror_mode": {
    "name": "ipython",
    "version": 3
   },
   "file_extension": ".py",
   "mimetype": "text/x-python",
   "name": "python",
   "nbconvert_exporter": "python",
   "pygments_lexer": "ipython3",
   "version": "3.12.3"
  }
 },
 "nbformat": 4,
 "nbformat_minor": 2
}
