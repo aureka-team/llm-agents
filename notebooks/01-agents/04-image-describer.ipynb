{
 "cells": [
  {
   "cell_type": "code",
   "execution_count": null,
   "metadata": {},
   "outputs": [],
   "source": [
    "from rich.pretty import pprint\n",
    "from common.cache import RedisCache\n",
    "\n",
    "from pydantic_ai import BinaryContent\n",
    "from llm_agents.agents import ImageDescriber, ImageDescriberInput"
   ]
  },
  {
   "cell_type": "code",
   "execution_count": null,
   "metadata": {},
   "outputs": [],
   "source": [
    "cache = RedisCache()\n",
    "image_describer = ImageDescriber(cache=None)"
   ]
  },
  {
   "cell_type": "code",
   "execution_count": null,
   "metadata": {},
   "outputs": [],
   "source": [
    "description_guidelines = \"\"\"\n",
    "    Analyze the provided image and generate a highly detailed description.\n",
    "    Your goal is to extract and describe visual details with precision,\n",
    "    capturing objects, colors, lighting, spatial relationships, emotions, and overall ambiance.\n",
    "    Your descriptions should be clear, vivid, and structured to be useful as AI prompts.\n",
    "\"\"\"\n",
    "with open(\"/resources/images/profile-image-small.jpg\", \"rb\") as image_file:\n",
    "    agent_output = await image_describer.generate(\n",
    "        agent_input=ImageDescriberInput(\n",
    "            description_guidelines=description_guidelines,\n",
    "        ),\n",
    "        user_content=BinaryContent(\n",
    "            data=image_file.read(),\n",
    "            media_type=\"image/png\",\n",
    "        ),\n",
    "    )\n",
    "\n",
    "    pprint(agent_output)"
   ]
  },
  {
   "cell_type": "code",
   "execution_count": null,
   "metadata": {},
   "outputs": [],
   "source": []
  }
 ],
 "metadata": {
  "kernelspec": {
   "display_name": "Python 3",
   "language": "python",
   "name": "python3"
  },
  "language_info": {
   "codemirror_mode": {
    "name": "ipython",
    "version": 3
   },
   "file_extension": ".py",
   "mimetype": "text/x-python",
   "name": "python",
   "nbconvert_exporter": "python",
   "pygments_lexer": "ipython3",
   "version": "3.12.3"
  }
 },
 "nbformat": 4,
 "nbformat_minor": 2
}
