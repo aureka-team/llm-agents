{
    "cells": [
        {
            "cell_type": "code",
            "execution_count": null,
            "metadata": {},
            "outputs": [],
            "source": [
                "import logfire\n",
                "\n",
                "from rich.pretty import pprint\n",
                "from common.cache import RedisCache\n",
                "\n",
                "from llm_agents.agents import (\n",
                "    LanguageTranslator,\n",
                "    LanguageTranslatorDeps,\n",
                ")"
            ]
        },
        {
            "cell_type": "code",
            "execution_count": null,
            "metadata": {},
            "outputs": [],
            "source": [
                "logfire.configure(service_name=\"llm-agents\")\n",
                "_ = logfire.instrument_pydantic_ai()\n",
                "_ = logfire.instrument_openai()"
            ]
        },
        {
            "cell_type": "code",
            "execution_count": null,
            "metadata": {},
            "outputs": [],
            "source": [
                "cache = RedisCache()\n",
                "language_translator = LanguageTranslator(cache=None)"
            ]
        },
        {
            "cell_type": "code",
            "execution_count": null,
            "metadata": {},
            "outputs": [],
            "source": [
                "n_inputs = 5\n",
                "user_prompt_template = \"This is the example number: {number}\"\n",
                "user_prompts = [\n",
                "    user_prompt_template.format(number=idx) for idx in range(1, n_inputs + 1)\n",
                "]\n",
                "\n",
                "pprint(user_prompts)"
            ]
        },
        {
            "cell_type": "code",
            "execution_count": null,
            "metadata": {},
            "outputs": [],
            "source": [
                "agent_deps_list = [\n",
                "    LanguageTranslatorDeps(\n",
                "        source_language=\"English\",\n",
                "        target_language=\"French\",\n",
                "    )\n",
                "    for idx in range(1, n_inputs + 1)\n",
                "]\n",
                "\n",
                "pprint(agent_deps_list)"
            ]
        },
        {
            "cell_type": "code",
            "execution_count": null,
            "metadata": {},
            "outputs": [],
            "source": [
                "agent_outputs = await language_translator.batch_generate(\n",
                "    user_prompts=user_prompts,\n",
                "    agent_deps_list=agent_deps_list,\n",
                ")\n",
                "\n",
                "print(len(agent_outputs))\n",
                "pprint(agent_outputs)"
            ]
        },
        {
            "cell_type": "code",
            "execution_count": null,
            "metadata": {},
            "outputs": [],
            "source": []
        }
    ],
    "metadata": {
        "kernelspec": {
            "display_name": "Python 3",
            "language": "python",
            "name": "python3"
        },
        "language_info": {
            "codemirror_mode": {
                "name": "ipython",
                "version": 3
            },
            "file_extension": ".py",
            "mimetype": "text/x-python",
            "name": "python",
            "nbconvert_exporter": "python",
            "pygments_lexer": "ipython3",
            "version": "3.12.3"
        }
    },
    "nbformat": 4,
    "nbformat_minor": 2
}
