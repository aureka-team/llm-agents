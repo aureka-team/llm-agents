{
 "cells": [
  {
   "cell_type": "code",
   "execution_count": 1,
   "metadata": {},
   "outputs": [],
   "source": [
    "# import os\n",
    "\n",
    "# os.environ[\"LOG_LEVEL\"] = \"debug\""
   ]
  },
  {
   "cell_type": "code",
   "execution_count": 2,
   "metadata": {},
   "outputs": [],
   "source": [
    "from rich.pretty import pprint\n",
    "from common.cache import RedisCache\n",
    "\n",
    "from llm_agents.agents import LanguageDetector, LanguageDetectorInput"
   ]
  },
  {
   "cell_type": "code",
   "execution_count": 3,
   "metadata": {},
   "outputs": [],
   "source": [
    "cache = RedisCache()\n",
    "language_detector = LanguageDetector(cache=None)"
   ]
  },
  {
   "cell_type": "code",
   "execution_count": null,
   "metadata": {},
   "outputs": [],
   "source": [
    "agent_input = LanguageDetectorInput(text=\"This is the example number: 0\")\n",
    "expert_output = await language_detector.generate(agent_input=agent_input)\n",
    "pprint(expert_output)"
   ]
  },
  {
   "cell_type": "code",
   "execution_count": null,
   "metadata": {},
   "outputs": [],
   "source": [
    "n_inputs = 5\n",
    "template_text = \"This is the example number: {number}\"\n",
    "agent_inputs = [\n",
    "    LanguageDetectorInput(text=template_text.format(number=idx))\n",
    "    for idx in range(1, n_inputs + 1)\n",
    "]\n",
    "\n",
    "pprint(agent_inputs)"
   ]
  },
  {
   "cell_type": "code",
   "execution_count": null,
   "metadata": {},
   "outputs": [],
   "source": [
    "expert_outputs = await language_detector.batch_generate(\n",
    "    agent_inputs=agent_inputs\n",
    ")\n",
    "\n",
    "print(len(expert_outputs))\n",
    "pprint(expert_outputs[:5])"
   ]
  },
  {
   "cell_type": "code",
   "execution_count": null,
   "metadata": {},
   "outputs": [],
   "source": []
  }
 ],
 "metadata": {
  "kernelspec": {
   "display_name": "Python 3",
   "language": "python",
   "name": "python3"
  },
  "language_info": {
   "codemirror_mode": {
    "name": "ipython",
    "version": 3
   },
   "file_extension": ".py",
   "mimetype": "text/x-python",
   "name": "python",
   "nbconvert_exporter": "python",
   "pygments_lexer": "ipython3",
   "version": "3.12.3"
  }
 },
 "nbformat": 4,
 "nbformat_minor": 2
}
