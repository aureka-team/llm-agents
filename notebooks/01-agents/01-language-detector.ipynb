{
 "cells": [
  {
   "cell_type": "code",
   "execution_count": null,
   "metadata": {},
   "outputs": [],
   "source": [
    "import logfire\n",
    "\n",
    "from rich.pretty import pprint\n",
    "from common.cache import RedisCache\n",
    "\n",
    "from llm_agents.agents import LanguageDetector"
   ]
  },
  {
   "cell_type": "code",
   "execution_count": null,
   "metadata": {},
   "outputs": [],
   "source": [
    "logfire.configure(service_name=\"llm-agents\")\n",
    "_ = logfire.instrument_pydantic_ai()\n",
    "_ = logfire.instrument_openai()"
   ]
  },
  {
   "cell_type": "code",
   "execution_count": null,
   "metadata": {},
   "outputs": [],
   "source": [
    "cache = RedisCache()\n",
    "language_detector = LanguageDetector(cache=None)"
   ]
  },
  {
   "cell_type": "code",
   "execution_count": null,
   "metadata": {},
   "outputs": [],
   "source": [
    "user_prompt = \"This is the example number: 0\"\n",
    "expert_output = await language_detector.generate(user_prompt=user_prompt)\n",
    "pprint(expert_output)"
   ]
  },
  {
   "cell_type": "code",
   "execution_count": null,
   "metadata": {},
   "outputs": [],
   "source": [
    "n_inputs = 5\n",
    "user_prompt_template = \"This is the example number: {number}\"\n",
    "user_prompts = [\n",
    "    user_prompt_template.format(number=idx) for idx in range(1, n_inputs + 1)\n",
    "]\n",
    "\n",
    "pprint(user_prompts)"
   ]
  },
  {
   "cell_type": "code",
   "execution_count": null,
   "metadata": {},
   "outputs": [],
   "source": [
    "expert_outputs = await language_detector.batch_generate(\n",
    "    user_prompts=user_prompts\n",
    ")\n",
    "\n",
    "print(len(expert_outputs))\n",
    "pprint(expert_outputs[:5])"
   ]
  },
  {
   "cell_type": "code",
   "execution_count": null,
   "metadata": {},
   "outputs": [],
   "source": []
  }
 ],
 "metadata": {
  "kernelspec": {
   "display_name": "Python 3",
   "language": "python",
   "name": "python3"
  },
  "language_info": {
   "codemirror_mode": {
    "name": "ipython",
    "version": 3
   },
   "file_extension": ".py",
   "mimetype": "text/x-python",
   "name": "python",
   "nbconvert_exporter": "python",
   "pygments_lexer": "ipython3",
   "version": "3.12.3"
  }
 },
 "nbformat": 4,
 "nbformat_minor": 2
}
